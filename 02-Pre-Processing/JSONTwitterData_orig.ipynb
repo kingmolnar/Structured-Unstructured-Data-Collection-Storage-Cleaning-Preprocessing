{
 "cells": [
  {
   "cell_type": "markdown",
   "metadata": {},
   "source": [
    "<html>\n",
    "<p style=\"font-size: 300%; font-weight: bold; color: red; text-align: center; line-height: 120%\">\n",
    "Please \"Close and Halt\" this notebook after use!\n",
    "</p>\n",
    "</html>"
   ]
  },
  {
   "cell_type": "markdown",
   "metadata": {},
   "source": [
    "# Introduction\n",
    "\n",
    "**JavaScript Object Notation** or **JSON** is an open-standard file format that uses human-readable text to transmit data objects consisting of attribute–value pairs and array data types (or any other serializable value). It is a very common data format used for asynchronous browser–server communication, including as a replacement for XML in some AJAX-style systems.\n",
    "\n",
    "JSON is a language-independent data format. It was derived from JavaScript, but as of 2017 many programming languages include code to generate and parse JSON-format data. The official Internet media type for JSON is `application/json`. JSON filenames use the extension `.json`.\n",
    "\n",
    "## Tools\n",
    "We focus on three tools:\n",
    "1. Python package `json` https://docs.python.org/2/library/json.html\n",
    "2. UNIX command line tool `jq` https://stedolan.github.io/jq/\n",
    "3. PySpark https://spark.apache.org\n",
    "\n",
    "## References\n",
    "- Tweet data dictionaries https://developer.twitter.com/en/docs/tweets/data-dictionary/overview/tweet-object\n",
    "- https://developer.twitter.com/en/docs/tweets/data-dictionary/overview/intro-to-tweet-json.html\n",
    "- Parsing JSON with jq http://www.compciv.org/recipes/cli/jq-for-parsing-json/"
   ]
  },
  {
   "cell_type": "markdown",
   "metadata": {},
   "source": [
    "# Data Set\n",
    "We use an small subset of a Twitter data-set, which contains over 170,000,000 tweets collected during 3 months leading up to the 2012 presidential elections. The original data files are posted at https://old.datahub.io/dataset/twitter-2012-presidential-election\n",
    "\n"
   ]
  },
  {
   "cell_type": "code",
   "execution_count": 47,
   "metadata": {
    "ExecuteTime": {
     "end_time": "2018-02-10T14:37:04.943467",
     "start_time": "2018-02-10T14:37:04.920599"
    },
    "collapsed": false
   },
   "outputs": [
    {
     "name": "stdout",
     "output_type": "stream",
     "text": [
      "{\n",
      "  \"in_reply_to_user_id_str\": null,\n",
      "  \"id_str\": \"246058156919238656\",\n",
      "  \"text\": \"Anderson Silva vs Stephen bonner is like sending a man to murders row after he saved the president 5 years earlier\",\n",
      "  \"geo\": null,\n",
      "  \"retweeted\": false,\n",
      "  \"in_reply_to_status_id\": null,\n",
      "  \"created_at\": \"Thu Sep 13 01:30:10 +0000 2012\",\n",
      "  \"source\": \"web\",\n",
      "  \"entities\": {\n",
      "    \"urls\": [],\n",
      "    \"user_mentions\": [],\n",
      "    \"hashtags\": []\n",
      "  },\n",
      "  \"contributors\": null,\n",
      "  \"place\": null,\n",
      "  \"favorited\": false,\n",
      "  \"coordinates\": null,\n",
      "  \"retweet_count\": 0,\n",
      "  \"truncated\": false,\n",
      "  \"in_reply_to_status_id_str\": null,\n",
      "  \"user\": {\n",
      "    \"id_str\": \"29324689\",\n",
      "    \"is_translator\": false,\n",
      "    \"verified\": false,\n",
      "    \"favourites_count\": 9,\n",
      "    \"geo_enabled\": false,\n",
      "    \"profile_use_background_image\": false,\n",
      "    \"profile_image_url\": \"http://a0.twimg.com/profile_images/2581517833/1y7d6c4gxsublrfhmium_normal.jpeg\",\n",
      "    \"profile_text_color\": \"666666\",\n",
      "    \"profile_background_image_url\": \"http://a0.twimg.com/profile_background_images/595435349/ev27lwyf19t3o4aml4m5.jpeg\",\n",
      "    \"created_at\": \"Mon Apr 06 23:26:56 +0000 2009\",\n",
      "    \"profile_image_url_https\": \"https://si0.twimg.com/profile_images/2581517833/1y7d6c4gxsublrfhmium_normal.jpeg\",\n",
      "    \"description\": \"NYer Dating around, watching sports especially NY rangers hockey and writing about lifes absurdities. \",\n",
      "    \"listed_count\": 17,\n",
      "    \"profile_link_color\": \"2FC2EF\",\n",
      "    \"followers_count\": 815,\n",
      "    \"url\": null,\n",
      "    \"contributors_enabled\": false,\n",
      "    \"lang\": \"en\",\n",
      "    \"time_zone\": \"Eastern Time (US & Canada)\",\n",
      "    \"default_profile\": false,\n",
      "    \"profile_background_color\": \"1A1B1F\",\n",
      "    \"screen_name\": \"RealistSpeaking\",\n",
      "    \"profile_background_tile\": false,\n",
      "    \"protected\": false,\n",
      "    \"location\": \"New York \",\n",
      "    \"show_all_inline_media\": false,\n",
      "    \"following\": null,\n",
      "    \"profile_sidebar_fill_color\": \"252429\",\n",
      "    \"name\": \"Greg S.\",\n",
      "    \"follow_request_sent\": null,\n",
      "    \"statuses_count\": 17046,\n",
      "    \"profile_background_image_url_https\": \"https://si0.twimg.com/profile_background_images/595435349/ev27lwyf19t3o4aml4m5.jpeg\",\n",
      "    \"id\": 29324689,\n",
      "    \"default_profile_image\": false,\n",
      "    \"notifications\": null,\n",
      "    \"utc_offset\": -18000,\n",
      "    \"friends_count\": 1122,\n",
      "    \"profile_sidebar_border_color\": \"181A1E\"\n",
      "  },\n",
      "  \"id\": 246058156919238660,\n",
      "  \"in_reply_to_screen_name\": null,\n",
      "  \"in_reply_to_user_id\": null\n",
      "}\n"
     ]
    }
   ],
   "source": [
    "%%sh\n",
    "head -1 twitter200.json | jq '.'"
   ]
  },
  {
   "cell_type": "markdown",
   "metadata": {},
   "source": [
    "# Python\n"
   ]
  },
  {
   "cell_type": "code",
   "execution_count": 49,
   "metadata": {
    "ExecuteTime": {
     "end_time": "2018-02-10T14:37:13.059229",
     "start_time": "2018-02-10T14:37:13.055119"
    },
    "collapsed": true
   },
   "outputs": [],
   "source": [
    "import json\n",
    "import os, sys"
   ]
  },
  {
   "cell_type": "code",
   "execution_count": 51,
   "metadata": {
    "ExecuteTime": {
     "end_time": "2018-02-10T14:37:19.874691",
     "start_time": "2018-02-10T14:37:19.862612"
    },
    "collapsed": false
   },
   "outputs": [
    {
     "name": "stdout",
     "output_type": "stream",
     "text": [
      "[u'favorited', u'in_reply_to_user_id', u'contributors', u'entities', u'text', u'created_at', u'truncated', u'retweeted', u'in_reply_to_status_id_str', u'coordinates', u'id', u'source', u'in_reply_to_status_id', u'place', u'id_str', u'in_reply_to_screen_name', u'retweet_count', u'geo', u'in_reply_to_user_id_str', u'user']\n",
      "[u'contributors', u'truncated', u'text', u'in_reply_to_status_id', u'id', u'source', u'retweeted', u'coordinates', u'entities', u'in_reply_to_screen_name', u'in_reply_to_user_id', u'retweet_count', u'id_str', u'favorited', u'user', u'geo', u'in_reply_to_user_id_str', u'possibly_sensitive', u'created_at', u'possibly_sensitive_editable', u'in_reply_to_status_id_str', u'place']\n",
      "[u'contributors', u'truncated', u'text', u'in_reply_to_status_id', u'id', u'source', u'retweeted', u'coordinates', u'entities', u'in_reply_to_screen_name', u'in_reply_to_user_id', u'retweet_count', u'id_str', u'favorited', u'user', u'geo', u'in_reply_to_user_id_str', u'possibly_sensitive', u'created_at', u'possibly_sensitive_editable', u'in_reply_to_status_id_str', u'place']\n",
      "[u'favorited', u'in_reply_to_user_id', u'contributors', u'entities', u'text', u'created_at', u'truncated', u'retweeted', u'in_reply_to_status_id_str', u'coordinates', u'id', u'source', u'in_reply_to_status_id', u'place', u'id_str', u'in_reply_to_screen_name', u'retweet_count', u'geo', u'in_reply_to_user_id_str', u'user']\n",
      "[u'contributors', u'truncated', u'text', u'in_reply_to_status_id', u'id', u'source', u'retweeted', u'coordinates', u'entities', u'in_reply_to_screen_name', u'in_reply_to_user_id', u'retweet_count', u'id_str', u'favorited', u'user', u'geo', u'in_reply_to_user_id_str', u'possibly_sensitive', u'created_at', u'possibly_sensitive_editable', u'in_reply_to_status_id_str', u'place']\n",
      "[u'contributors', u'truncated', u'text', u'in_reply_to_status_id', u'id', u'source', u'retweeted', u'coordinates', u'entities', u'in_reply_to_screen_name', u'id_str', u'retweet_count', u'in_reply_to_user_id', u'favorited', u'retweeted_status', u'user', u'geo', u'in_reply_to_user_id_str', u'possibly_sensitive', u'created_at', u'possibly_sensitive_editable', u'in_reply_to_status_id_str', u'place']\n",
      "[u'favorited', u'in_reply_to_user_id', u'contributors', u'retweeted_status', u'entities', u'text', u'created_at', u'truncated', u'retweeted', u'in_reply_to_status_id_str', u'coordinates', u'id', u'source', u'in_reply_to_status_id', u'place', u'id_str', u'in_reply_to_screen_name', u'retweet_count', u'geo', u'in_reply_to_user_id_str', u'user']\n",
      "[u'favorited', u'in_reply_to_user_id', u'contributors', u'entities', u'text', u'created_at', u'truncated', u'retweeted', u'in_reply_to_status_id_str', u'coordinates', u'id', u'source', u'in_reply_to_status_id', u'place', u'id_str', u'in_reply_to_screen_name', u'retweet_count', u'geo', u'in_reply_to_user_id_str', u'user']\n",
      "[u'favorited', u'in_reply_to_user_id', u'contributors', u'retweeted_status', u'entities', u'text', u'created_at', u'truncated', u'retweeted', u'in_reply_to_status_id_str', u'coordinates', u'id', u'source', u'in_reply_to_status_id', u'place', u'id_str', u'in_reply_to_screen_name', u'retweet_count', u'geo', u'in_reply_to_user_id_str', u'user']\n",
      "[u'favorited', u'in_reply_to_user_id', u'contributors', u'retweeted_status', u'entities', u'text', u'created_at', u'truncated', u'retweeted', u'in_reply_to_status_id_str', u'coordinates', u'id', u'source', u'in_reply_to_status_id', u'place', u'id_str', u'in_reply_to_screen_name', u'retweet_count', u'geo', u'in_reply_to_user_id_str', u'user']\n"
     ]
    }
   ],
   "source": [
    "MAX_LINES = 10\n",
    "with open('twitter200.json') as io:\n",
    "    line = io.readline()\n",
    "    while line and MAX_LINES>0:\n",
    "        row = json.loads(line.strip())\n",
    "        print row.keys()\n",
    "        \n",
    "        # end of while-body\n",
    "        MAX_LINES -= 1\n",
    "        line = io.readline()\n",
    "        "
   ]
  },
  {
   "cell_type": "code",
   "execution_count": 52,
   "metadata": {
    "ExecuteTime": {
     "end_time": "2018-02-10T14:37:24.242944",
     "start_time": "2018-02-10T14:37:24.223248"
    },
    "collapsed": false,
    "scrolled": false
   },
   "outputs": [
    {
     "data": {
      "text/plain": [
       "{u'contributors': None,\n",
       " u'coordinates': None,\n",
       " u'created_at': u'Thu Sep 13 01:30:11 +0000 2012',\n",
       " u'entities': {u'hashtags': [],\n",
       "  u'urls': [],\n",
       "  u'user_mentions': [{u'id': 34993057,\n",
       "    u'id_str': u'34993057',\n",
       "    u'indices': [3, 15],\n",
       "    u'name': u'JustMePammy',\n",
       "    u'screen_name': u'JustMePammy'},\n",
       "   {u'id': 376514554,\n",
       "    u'id_str': u'376514554',\n",
       "    u'indices': [24, 36],\n",
       "    u'name': u'@bornAmerica',\n",
       "    u'screen_name': u'BornAmerica'}]},\n",
       " u'favorited': False,\n",
       " u'geo': None,\n",
       " u'id': 246058158190129153,\n",
       " u'id_str': u'246058158190129153',\n",
       " u'in_reply_to_screen_name': None,\n",
       " u'in_reply_to_status_id': None,\n",
       " u'in_reply_to_status_id_str': None,\n",
       " u'in_reply_to_user_id': None,\n",
       " u'in_reply_to_user_id_str': None,\n",
       " u'place': None,\n",
       " u'retweet_count': 2,\n",
       " u'retweeted': False,\n",
       " u'retweeted_status': {u'contributors': None,\n",
       "  u'coordinates': None,\n",
       "  u'created_at': u'Thu Sep 13 01:25:48 +0000 2012',\n",
       "  u'entities': {u'hashtags': [],\n",
       "   u'urls': [],\n",
       "   u'user_mentions': [{u'id': 376514554,\n",
       "     u'id_str': u'376514554',\n",
       "     u'indices': [7, 19],\n",
       "     u'name': u'@bornAmerica',\n",
       "     u'screen_name': u'BornAmerica'}]},\n",
       "  u'favorited': False,\n",
       "  u'geo': None,\n",
       "  u'id': 246057054870044672,\n",
       "  u'id_str': u'246057054870044672',\n",
       "  u'in_reply_to_screen_name': None,\n",
       "  u'in_reply_to_status_id': None,\n",
       "  u'in_reply_to_status_id_str': None,\n",
       "  u'in_reply_to_user_id': None,\n",
       "  u'in_reply_to_user_id_str': None,\n",
       "  u'place': None,\n",
       "  u'retweet_count': 2,\n",
       "  u'retweeted': False,\n",
       "  u'source': u'<a href=\"http://www.tweetdeck.com\" rel=\"nofollow\">TweetDeck</a>',\n",
       "  u'text': u'&gt;RT @BornAmerica: The USA is a Republic.',\n",
       "  u'truncated': False,\n",
       "  u'user': {u'contributors_enabled': False,\n",
       "   u'created_at': u'Fri Apr 24 18:07:57 +0000 2009',\n",
       "   u'default_profile': False,\n",
       "   u'default_profile_image': False,\n",
       "   u'description': u'Conservative American. Good little queen of the woodlands. Formerly of the city. Have a bit of an evil streak.',\n",
       "   u'favourites_count': 1441,\n",
       "   u'follow_request_sent': None,\n",
       "   u'followers_count': 4220,\n",
       "   u'following': None,\n",
       "   u'friends_count': 4641,\n",
       "   u'geo_enabled': False,\n",
       "   u'id': 34993057,\n",
       "   u'id_str': u'34993057',\n",
       "   u'is_translator': False,\n",
       "   u'lang': u'en',\n",
       "   u'listed_count': 318,\n",
       "   u'location': u'America ',\n",
       "   u'name': u'JustMePammy',\n",
       "   u'notifications': None,\n",
       "   u'profile_background_color': u'9AE4E8',\n",
       "   u'profile_background_image_url': u'http://a0.twimg.com/profile_background_images/64500584/18024',\n",
       "   u'profile_background_image_url_https': u'https://si0.twimg.com/profile_background_images/64500584/18024',\n",
       "   u'profile_background_tile': False,\n",
       "   u'profile_image_url': u'http://a0.twimg.com/profile_images/671589557/Senoir_Photo_normal_normal.jpg',\n",
       "   u'profile_image_url_https': u'https://si0.twimg.com/profile_images/671589557/Senoir_Photo_normal_normal.jpg',\n",
       "   u'profile_link_color': u'0000FF',\n",
       "   u'profile_sidebar_border_color': u'87BC44',\n",
       "   u'profile_sidebar_fill_color': u'E0FF92',\n",
       "   u'profile_text_color': u'000000',\n",
       "   u'profile_use_background_image': True,\n",
       "   u'protected': False,\n",
       "   u'screen_name': u'JustMePammy',\n",
       "   u'show_all_inline_media': False,\n",
       "   u'statuses_count': 175313,\n",
       "   u'time_zone': u'Quito',\n",
       "   u'url': None,\n",
       "   u'utc_offset': -18000,\n",
       "   u'verified': False}},\n",
       " u'source': u'web',\n",
       " u'text': u'RT @JustMePammy: &gt;RT @BornAmerica: The USA is a Republic.',\n",
       " u'truncated': False,\n",
       " u'user': {u'contributors_enabled': False,\n",
       "  u'created_at': u'Tue Sep 20 01:04:46 +0000 2011',\n",
       "  u'default_profile': False,\n",
       "  u'default_profile_image': False,\n",
       "  u'description': u\"Don't follow me if you are liberal, socialist or a troll. RT not endorsement. I am tea-party libertarian & I block libs. I believe in rugged individualism. \\r\\n\",\n",
       "  u'favourites_count': 20,\n",
       "  u'follow_request_sent': None,\n",
       "  u'followers_count': 2457,\n",
       "  u'following': None,\n",
       "  u'friends_count': 2431,\n",
       "  u'geo_enabled': False,\n",
       "  u'id': 376514554,\n",
       "  u'id_str': u'376514554',\n",
       "  u'is_translator': False,\n",
       "  u'lang': u'en',\n",
       "  u'listed_count': 62,\n",
       "  u'location': u'United States of America',\n",
       "  u'name': u'@bornAmerica',\n",
       "  u'notifications': None,\n",
       "  u'profile_background_color': u'1A1B1F',\n",
       "  u'profile_background_image_url': u'http://a0.twimg.com/profile_background_images/578100058/j4gc066496dsdrqhjtci.jpeg',\n",
       "  u'profile_background_image_url_https': u'https://si0.twimg.com/profile_background_images/578100058/j4gc066496dsdrqhjtci.jpeg',\n",
       "  u'profile_background_tile': False,\n",
       "  u'profile_image_url': u'http://a0.twimg.com/profile_images/2603953115/vuuujgvl6pndgb78jkll_normal.jpeg',\n",
       "  u'profile_image_url_https': u'https://si0.twimg.com/profile_images/2603953115/vuuujgvl6pndgb78jkll_normal.jpeg',\n",
       "  u'profile_link_color': u'2FC2EF',\n",
       "  u'profile_sidebar_border_color': u'A8C7F7',\n",
       "  u'profile_sidebar_fill_color': u'C0DFEC',\n",
       "  u'profile_text_color': u'000000',\n",
       "  u'profile_use_background_image': True,\n",
       "  u'protected': False,\n",
       "  u'screen_name': u'BornAmerica',\n",
       "  u'show_all_inline_media': False,\n",
       "  u'statuses_count': 30776,\n",
       "  u'time_zone': u'Eastern Time (US & Canada)',\n",
       "  u'url': u'http://www.incarcerationnationusa.com',\n",
       "  u'utc_offset': -18000,\n",
       "  u'verified': False}}"
      ]
     },
     "execution_count": 52,
     "metadata": {},
     "output_type": "execute_result"
    }
   ],
   "source": [
    "row"
   ]
  },
  {
   "cell_type": "code",
   "execution_count": 53,
   "metadata": {
    "ExecuteTime": {
     "end_time": "2018-02-10T14:37:32.612664",
     "start_time": "2018-02-10T14:37:32.606451"
    },
    "collapsed": false
   },
   "outputs": [
    {
     "data": {
      "text/plain": [
       "u'RT @JustMePammy: &gt;RT @BornAmerica: The USA is a Republic.'"
      ]
     },
     "execution_count": 53,
     "metadata": {},
     "output_type": "execute_result"
    }
   ],
   "source": [
    "row['text']"
   ]
  },
  {
   "cell_type": "code",
   "execution_count": 54,
   "metadata": {
    "ExecuteTime": {
     "end_time": "2018-02-10T14:37:34.396438",
     "start_time": "2018-02-10T14:37:34.391164"
    },
    "collapsed": false
   },
   "outputs": [
    {
     "name": "stdout",
     "output_type": "stream",
     "text": [
      "RT @JustMePammy: &gt;RT @BornAmerica: The USA is a Republic. 376514554 @bornAmerica\n"
     ]
    }
   ],
   "source": [
    "print row['text'], row['user']['id'], row['user']['name']"
   ]
  },
  {
   "cell_type": "code",
   "execution_count": null,
   "metadata": {
    "collapsed": true
   },
   "outputs": [],
   "source": []
  },
  {
   "cell_type": "code",
   "execution_count": null,
   "metadata": {
    "collapsed": true
   },
   "outputs": [],
   "source": []
  },
  {
   "cell_type": "markdown",
   "metadata": {},
   "source": [
    "## Table of users and web-sites\n",
    "\n",
    "Let's create a table of users and web-sites they are tweeted about. This may be useful to create a graph between web-sites determined by the number of shared uses. Eventually, we could also include a sentiment analysis of the tweet."
   ]
  },
  {
   "cell_type": "code",
   "execution_count": 55,
   "metadata": {
    "ExecuteTime": {
     "end_time": "2018-02-10T14:37:43.330185",
     "start_time": "2018-02-10T14:37:43.315381"
    },
    "collapsed": false,
    "scrolled": true
   },
   "outputs": [
    {
     "name": "stdout",
     "output_type": "stream",
     "text": [
      "61914925 yfrog.com\n",
      "340243491 www.egyptbulletin.com\n",
      "606657776 QualityPetWorld.com\n",
      "66700814 on.cnn.com\n"
     ]
    }
   ],
   "source": [
    "### Let's start with the core loop\n",
    "MAX_LINES = 7\n",
    "with open('twitter200.json') as io:\n",
    "    line = io.readline()\n",
    "    while line and MAX_LINES>0:\n",
    "        row = json.loads(line.strip())\n",
    "        for u in row['entities']['urls']:\n",
    "            print row['user']['id'], u['expanded_url'].split('/', 3)[2]\n",
    "        \n",
    "        # end of while-body\n",
    "        MAX_LINES -= 1\n",
    "        line = io.readline()"
   ]
  },
  {
   "cell_type": "code",
   "execution_count": 56,
   "metadata": {
    "ExecuteTime": {
     "end_time": "2018-02-10T14:37:45.131246",
     "start_time": "2018-02-10T14:37:45.113110"
    },
    "collapsed": false
   },
   "outputs": [
    {
     "data": {
      "text/plain": [
       "{u'contributors': None,\n",
       " u'coordinates': None,\n",
       " u'created_at': u'Thu Sep 13 01:30:11 +0000 2012',\n",
       " u'entities': {u'hashtags': [],\n",
       "  u'urls': [],\n",
       "  u'user_mentions': [{u'id': 133110529,\n",
       "    u'id_str': u'133110529',\n",
       "    u'indices': [3, 12],\n",
       "    u'name': u'Karl Welzein',\n",
       "    u'screen_name': u'DadBoner'}]},\n",
       " u'favorited': False,\n",
       " u'geo': None,\n",
       " u'id': 246058158043308033,\n",
       " u'id_str': u'246058158043308033',\n",
       " u'in_reply_to_screen_name': None,\n",
       " u'in_reply_to_status_id': None,\n",
       " u'in_reply_to_status_id_str': None,\n",
       " u'in_reply_to_user_id': None,\n",
       " u'in_reply_to_user_id_str': None,\n",
       " u'place': None,\n",
       " u'retweet_count': 275,\n",
       " u'retweeted': False,\n",
       " u'retweeted_status': {u'contributors': None,\n",
       "  u'coordinates': None,\n",
       "  u'created_at': u'Wed Sep 12 19:18:42 +0000 2012',\n",
       "  u'entities': {u'hashtags': [], u'urls': [], u'user_mentions': []},\n",
       "  u'favorited': False,\n",
       "  u'geo': None,\n",
       "  u'id': 245964674347196419,\n",
       "  u'id_str': u'245964674347196419',\n",
       "  u'in_reply_to_screen_name': None,\n",
       "  u'in_reply_to_status_id': None,\n",
       "  u'in_reply_to_status_id_str': None,\n",
       "  u'in_reply_to_user_id': None,\n",
       "  u'in_reply_to_user_id_str': None,\n",
       "  u'place': None,\n",
       "  u'retweet_count': 275,\n",
       "  u'retweeted': False,\n",
       "  u'source': u'web',\n",
       "  u'text': u'In the USA, Seger and Springsteen write songs about it, they still make Camaros, and High Life is always on sale. Other countries? No.',\n",
       "  u'truncated': False,\n",
       "  u'user': {u'contributors_enabled': False,\n",
       "   u'created_at': u'Thu Apr 15 01:42:21 +0000 2010',\n",
       "   u'default_profile': False,\n",
       "   u'default_profile_image': False,\n",
       "   u'description': u\"Can't wait for the weekend!\",\n",
       "   u'favourites_count': 0,\n",
       "   u'follow_request_sent': None,\n",
       "   u'followers_count': 102303,\n",
       "   u'following': None,\n",
       "   u'friends_count': 165,\n",
       "   u'geo_enabled': False,\n",
       "   u'id': 133110529,\n",
       "   u'id_str': u'133110529',\n",
       "   u'is_translator': False,\n",
       "   u'lang': u'en',\n",
       "   u'listed_count': 1475,\n",
       "   u'location': u'Grand Blanc, MI',\n",
       "   u'name': u'Karl Welzein',\n",
       "   u'notifications': None,\n",
       "   u'profile_background_color': u'C0DEED',\n",
       "   u'profile_background_image_url': u'http://a0.twimg.com/profile_background_images/96669633/golfball.jpg',\n",
       "   u'profile_background_image_url_https': u'https://si0.twimg.com/profile_background_images/96669633/golfball.jpg',\n",
       "   u'profile_background_tile': True,\n",
       "   u'profile_image_url': u'http://a0.twimg.com/profile_images/1572732889/captainkarl_normal.jpg',\n",
       "   u'profile_image_url_https': u'https://si0.twimg.com/profile_images/1572732889/captainkarl_normal.jpg',\n",
       "   u'profile_link_color': u'0084B4',\n",
       "   u'profile_sidebar_border_color': u'C0DEED',\n",
       "   u'profile_sidebar_fill_color': u'DDEEF6',\n",
       "   u'profile_text_color': u'333333',\n",
       "   u'profile_use_background_image': True,\n",
       "   u'protected': False,\n",
       "   u'screen_name': u'DadBoner',\n",
       "   u'show_all_inline_media': False,\n",
       "   u'statuses_count': 6246,\n",
       "   u'time_zone': None,\n",
       "   u'url': None,\n",
       "   u'utc_offset': None,\n",
       "   u'verified': False}},\n",
       " u'source': u'<a href=\"http://twitter.com/#!/download/ipad\" rel=\"nofollow\">Twitter for iPad</a>',\n",
       " u'text': u'RT @DadBoner: In the USA, Seger and Springsteen write songs about it, they still make Camaros, and High Life is always on sale. Other co ...',\n",
       " u'truncated': False,\n",
       " u'user': {u'contributors_enabled': False,\n",
       "  u'created_at': u'Thu Apr 23 01:40:21 +0000 2009',\n",
       "  u'default_profile': False,\n",
       "  u'default_profile_image': False,\n",
       "  u'description': u'primordial ooze #LAK',\n",
       "  u'favourites_count': 2,\n",
       "  u'follow_request_sent': None,\n",
       "  u'followers_count': 179,\n",
       "  u'following': None,\n",
       "  u'friends_count': 329,\n",
       "  u'geo_enabled': True,\n",
       "  u'id': 34483672,\n",
       "  u'id_str': u'34483672',\n",
       "  u'is_translator': False,\n",
       "  u'lang': u'en',\n",
       "  u'listed_count': 2,\n",
       "  u'location': u'third and first letter',\n",
       "  u'name': u'Bran',\n",
       "  u'notifications': None,\n",
       "  u'profile_background_color': u'FAF5FA',\n",
       "  u'profile_background_image_url': u'http://a0.twimg.com/profile_background_images/81907990/nvspiltink.br',\n",
       "  u'profile_background_image_url_https': u'https://si0.twimg.com/profile_background_images/81907990/nvspiltink.br',\n",
       "  u'profile_background_tile': False,\n",
       "  u'profile_image_url': u'http://a0.twimg.com/profile_images/1905509660/iamthebirdflu_normal.jpg',\n",
       "  u'profile_image_url_https': u'https://si0.twimg.com/profile_images/1905509660/iamthebirdflu_normal.jpg',\n",
       "  u'profile_link_color': u'5E5D5C',\n",
       "  u'profile_sidebar_border_color': u'01010A',\n",
       "  u'profile_sidebar_fill_color': u'050505',\n",
       "  u'profile_text_color': u'454545',\n",
       "  u'profile_use_background_image': True,\n",
       "  u'protected': False,\n",
       "  u'screen_name': u'bran_dosmil',\n",
       "  u'show_all_inline_media': False,\n",
       "  u'statuses_count': 10507,\n",
       "  u'time_zone': u'Pacific Time (US & Canada)',\n",
       "  u'url': u'http://www.permanentstandby.tumblr.com',\n",
       "  u'utc_offset': -28800,\n",
       "  u'verified': False}}"
      ]
     },
     "execution_count": 56,
     "metadata": {},
     "output_type": "execute_result"
    }
   ],
   "source": [
    "row"
   ]
  },
  {
   "cell_type": "code",
   "execution_count": null,
   "metadata": {
    "collapsed": true
   },
   "outputs": [],
   "source": []
  },
  {
   "cell_type": "markdown",
   "metadata": {},
   "source": [
    "# JQ\n",
    "\n",
    "- https://stedolan.github.io/jq/\n",
    "- Parsing JSON with jq http://www.compciv.org/recipes/cli/jq-for-parsing-json/\n",
    "\n",
    "jq is like sed for JSON data - you can use it to slice and filter and map and transform structured data with the same ease that sed, awk, grep and friends let you play with text.\n",
    "\n",
    "jq is written in portable C, and it has zero runtime dependencies. You can download a single binary, scp it to a far away machine of the same type, and expect it to work.\n",
    "\n",
    "jq can mangle the data format that you have into the one that you want with very little effort, and the program to do so is often shorter and simpler than you’d expect."
   ]
  },
  {
   "cell_type": "raw",
   "metadata": {
    "ExecuteTime": {
     "end_time": "2018-01-19T14:51:50.351503",
     "start_time": "2018-01-19T14:51:50.346783"
    }
   },
   "source": [
    "%%sh\n",
    "cat twitter200.json | grep -v '\"geo\":null' | wc -l \n",
    "cat twitter200.json | grep -v '\"geo\":null' | more \n",
    "cat twitter200.json | grep '\"geo_enabled\":true' | wc -l\n",
    "cat twitter200.json | jq '.*'\n",
    "cat twitter200.json | jq '.'\n",
    "head -1 < twitter200.json | jq '.'\n",
    "head -1 < twitter200.json | jq '.'\n",
    "head -1 < twitter200.json | jq '.' | wc -l \n",
    "head -1 < twitter200.json | jq '.' | head -20\n",
    "head -1 < twitter200.json | jq '.user' | head -20\n",
    "head -1 < twitter200.json | jq '.geo' | head -20\n",
    "head -1 < twitter200.json | jq '{hello: .geo}' | head -20\n",
    "head -1 < twitter200.json | jq '{user_name: .user.name, user_id: .user.id}' | head -20\n",
    "head -1 < twitter200.json | jq '{user_name: .user.name, user_id: .user.id, links: .entities.href}' | head -20\n",
    "head -10 < twitter200.json | jq '{user_name: .user.name, user_id: .user.id, links: .entities.href}' | head -20\n",
    "head -1 < twitter200.json | jq '.'\n",
    "head -10 < twitter200.json | jq '{user_name: .user.name, user_id: .user.id, links: .entities.urls}' | head -20\n",
    "head -10 < twitter200.json | jq '{user_name: .user.name, user_id: .user.id, links: .entities.urls[]}' | head -20\n",
    "head -20 < twitter200.json | jq '{user_name: .user.name, user_id: .user.id, links: .entities.urls[]}' | head -20\n",
    "head -20 < twitter200.json | jq '{user_name: .user.name, user_id: .user.id, links: [.entities.urls[]]}' | head -20\n",
    "head -20 < twitter200.json | jq '{user_name: .user.name, user_id: .user.id, links: [.entities.urls[].expanded_url]}' | head -20\n",
    "head -100 < twitter200.json | jq '{user_name: .user.name, user_id: .user.id, links: [.entities.urls[].expanded_url]}' | head -20\n",
    "head -100 < twitter200.json | jq '{user_name: .user.name, user_id: .user.id, links: [.entities .urls[] .expanded_url]}' | head -20\n",
    "cat twitter1k.json | jq '{user_name: .user.name, user_id: .user.id, links: [.entities .urls[] .expanded_url]}' | head -20\n",
    "\n"
   ]
  },
  {
   "cell_type": "code",
   "execution_count": 57,
   "metadata": {
    "ExecuteTime": {
     "end_time": "2018-02-10T14:37:51.771183",
     "start_time": "2018-02-10T14:37:51.743063"
    },
    "collapsed": false,
    "scrolled": true
   },
   "outputs": [
    {
     "name": "stdout",
     "output_type": "stream",
     "text": [
      "{\"user_name\":\"Greg S.\",\"user_id\":29324689,\"links\":[]}\n",
      "{\"user_name\":\"Kevon O \",\"user_id\":61914925,\"links\":[\"http://yfrog.com/hswxhzmj\"]}\n",
      "{\"user_name\":\"Egypt Bulletin\",\"user_id\":340243491,\"links\":[\"http://www.egyptbulletin.com/80466_en\"]}\n",
      "{\"user_name\":\"Erin\",\"user_id\":129869846,\"links\":[]}\n",
      "{\"user_name\":\"Quality Pet World\",\"user_id\":606657776,\"links\":[\"http://QualityPetWorld.com/news/detail.php?fid=35\"]}\n",
      "{\"user_name\":\"Claire Barrett\",\"user_id\":66700814,\"links\":[\"http://on.cnn.com/cnndcl2\"]}\n",
      "{\"user_name\":\"Bran\",\"user_id\":34483672,\"links\":[]}\n",
      "{\"user_name\":\"shipster \",\"user_id\":173871849,\"links\":[]}\n",
      "{\"user_name\":\"Blackk Dynamite®\",\"user_id\":614012051,\"links\":[]}\n",
      "{\"user_name\":\"@bornAmerica\",\"user_id\":376514554,\"links\":[]}\n",
      "{\"user_name\":\"Paul Matreselva \",\"user_id\":501350941,\"links\":[\"http://mmajunkie.com/news/30610/usa-today-anderson-silva-vs-stephan-bonnar-headlines-ufc-153.mma\"]}\n",
      "{\"user_name\":\"careerscallcenter\",\"user_id\":562488577,\"links\":[\"http://www.careerscallcenter.com/usa/illinois/macomb/callcenter-specialist\"]}\n",
      "{\"user_name\":\"openingsbusiness\",\"user_id\":562563336,\"links\":[\"http://www.openingsbusiness.com/usa/north-dakota/roseglen/business-tax-accountant-openings.html\"]}\n",
      "{\"user_name\":\"britneypopprincess1\",\"user_id\":814114146,\"links\":[]}\n",
      "{\"user_name\":\"Gracelin Moore\",\"user_id\":362881383,\"links\":[\"http://nyti.ms/Sdj06G\"]}\n",
      "{\"user_name\":\"The Realn3ws Post\",\"user_id\":494587575,\"links\":[]}\n",
      "{\"user_name\":\"courtney_backwards\",\"user_id\":315919541,\"links\":[]}\n",
      "{\"user_name\":\"nesanel cohen\",\"user_id\":636604044,\"links\":[]}\n",
      "{\"user_name\":\"~love.peace&soul~\",\"user_id\":622960061,\"links\":[]}\n",
      "{\"user_name\":\"Sept.18th®\",\"user_id\":476294502,\"links\":[]}\n"
     ]
    }
   ],
   "source": [
    "%%sh\n",
    "head -20 < twitter200.json | jq -c '{user_name: .user.name, user_id: .user.id, links: [.entities.urls[].expanded_url]}' | head -20\n"
   ]
  },
  {
   "cell_type": "code",
   "execution_count": 58,
   "metadata": {
    "ExecuteTime": {
     "end_time": "2018-02-10T14:37:56.612976",
     "start_time": "2018-02-10T14:37:56.558049"
    },
    "collapsed": false
   },
   "outputs": [
    {
     "name": "stdout",
     "output_type": "stream",
     "text": [
      "    198 null\n",
      "      1 {\"type\":\"Point\",\"coordinates\":[50.0866999,14.4188868]}\n",
      "      1 {\"type\":\"Point\",\"coordinates\":[-25.4783811,-49.2938965]}\n"
     ]
    }
   ],
   "source": [
    "%%sh\n",
    "cat twitter200.json | jq -c '.geo' | sort | uniq -c | sort -rn "
   ]
  },
  {
   "cell_type": "code",
   "execution_count": 59,
   "metadata": {
    "ExecuteTime": {
     "end_time": "2018-02-10T14:37:58.637416",
     "start_time": "2018-02-10T14:37:58.613228"
    },
    "collapsed": false
   },
   "outputs": [
    {
     "name": "stdout",
     "output_type": "stream",
     "text": [
      "9\n"
     ]
    }
   ],
   "source": [
    "%%sh\n",
    "cat twitter1k.json | grep -v '\"geo\":null' | wc -l "
   ]
  },
  {
   "cell_type": "markdown",
   "metadata": {
    "collapsed": true
   },
   "source": [
    "# Spark\n"
   ]
  },
  {
   "cell_type": "code",
   "execution_count": 1,
   "metadata": {
    "ExecuteTime": {
     "end_time": "2018-02-10T13:32:36.695864",
     "start_time": "2018-02-10T13:32:36.689418"
    },
    "collapsed": false
   },
   "outputs": [],
   "source": [
    "import sys, os\n",
    "sys.path.insert(0, '/usr/hdp/current/spark2-client/python')"
   ]
  },
  {
   "cell_type": "code",
   "execution_count": 2,
   "metadata": {
    "ExecuteTime": {
     "end_time": "2018-02-10T13:32:38.362036",
     "start_time": "2018-02-10T13:32:38.132743"
    },
    "collapsed": true
   },
   "outputs": [],
   "source": [
    "from pyspark import SparkConf, SparkContext"
   ]
  },
  {
   "cell_type": "code",
   "execution_count": null,
   "metadata": {
    "ExecuteTime": {
     "end_time": "2018-02-10T13:32:13.310492",
     "start_time": "2018-02-10T13:32:12.568633"
    },
    "collapsed": true
   },
   "outputs": [],
   "source": [
    "sc.stop()"
   ]
  },
  {
   "cell_type": "code",
   "execution_count": 5,
   "metadata": {
    "ExecuteTime": {
     "end_time": "2018-02-10T13:34:30.400523",
     "start_time": "2018-02-10T13:34:22.424385"
    },
    "collapsed": false
   },
   "outputs": [
    {
     "name": "stdout",
     "output_type": "stream",
     "text": [
      "2.2.0.2.6.3.0-235\n",
      "Spark UI at http://arc.insight.gsu.edu:8088/proxy/application_1514672663667_0465\n"
     ]
    }
   ],
   "source": [
    "conf = SparkConf().setMaster('yarn').setAppName(\"TwitterData\")\n",
    "conf.set(\"spark.shuffle.service.enabled\", \"true\") \\\n",
    "    .set(\"spark.dynamicAllocation.enabled\", \"true\") \\\n",
    "    .set(\"spark.dynamicAllocation.executorIdleTimeout\", \"120s\") \\\n",
    "    .set(\"spark.dynamicAllocation.initialExecutors\", 4)\n",
    "if not 'sc' in globals():\n",
    "    sc = SparkContext(conf=conf)\n",
    "print sc.version\n",
    "print \"Spark UI at http://arc.insight.gsu.edu:8088/proxy/\"+sc.applicationId"
   ]
  },
  {
   "cell_type": "markdown",
   "metadata": {},
   "source": [
    "## Read Twitter Data"
   ]
  },
  {
   "cell_type": "markdown",
   "metadata": {},
   "source": [
    "The election data are on the ARC cluster's HDFS in `/data/election2012`"
   ]
  },
  {
   "cell_type": "code",
   "execution_count": 6,
   "metadata": {
    "ExecuteTime": {
     "end_time": "2018-02-10T13:34:46.615383",
     "start_time": "2018-02-10T13:34:44.695811"
    },
    "collapsed": false
   },
   "outputs": [
    {
     "name": "stdout",
     "output_type": "stream",
     "text": [
      "Found 171 items\n",
      "-rw-r--r--   3 molnar hdfs  476352240 2018-02-10 10:25 /data/election2012/cache-0.json.gz\n",
      "-rw-r--r--   3 molnar hdfs  495723894 2018-02-10 10:25 /data/election2012/cache-1000000.json.gz\n",
      "-rw-r--r--   3 molnar hdfs  474653135 2018-02-10 10:25 /data/election2012/cache-10000000.json.gz\n"
     ]
    }
   ],
   "source": [
    "%%sh\n",
    "hdfs dfs -ls /data/election2012 | head -4"
   ]
  },
  {
   "cell_type": "code",
   "execution_count": 12,
   "metadata": {
    "ExecuteTime": {
     "end_time": "2018-02-10T13:36:33.824273",
     "start_time": "2018-02-10T13:36:31.873459"
    },
    "collapsed": false
   },
   "outputs": [
    {
     "data": {
      "text/plain": [
       "[u'{\"in_reply_to_status_id_str\":null,\"text\":\"Put the *media* into #mixedmedia projects, from copper fabric to luminescent tape: http:\\\\/\\\\/t.co\\\\/BRm1dMgH\",\"created_at\":\"Sun Sep 23 13:51:57 +0000 2012\",\"truncated\":false,\"possibly_sensitive\":false,\"in_reply_to_user_id_str\":null,\"contributors\":null,\"retweeted\":false,\"possibly_sensitive_editable\":true,\"coordinates\":null,\"in_reply_to_status_id\":null,\"source\":\"web\",\"entities\":{\"urls\":[{\"display_url\":\"wp.me\\\\/p2H1i-1uD\",\"indices\":[83,103],\"url\":\"http:\\\\/\\\\/t.co\\\\/BRm1dMgH\",\"expanded_url\":\"http:\\\\/\\\\/wp.me\\\\/p2H1i-1uD\"}],\"user_mentions\":[],\"hashtags\":[{\"text\":\"mixedmedia\",\"indices\":[21,32]}]},\"place\":null,\"geo\":null,\"in_reply_to_user_id\":null,\"favorited\":false,\"retweet_count\":0,\"user\":{\"created_at\":\"Wed Mar 11 18:07:07 +0000 2009\",\"profile_sidebar_border_color\":\"E64615\",\"profile_image_url_https\":\"https:\\\\/\\\\/si0.twimg.com\\\\/profile_images\\\\/289384511\\\\/pencil_tip_normal.jpg\",\"default_profile_image\":false,\"friends_count\":1693,\"url\":\"http:\\\\/\\\\/quinncreative.wordpress.com\",\"is_translator\":false,\"contributors_enabled\":false,\"profile_use_background_image\":true,\"time_zone\":\"Arizona\",\"favourites_count\":9,\"profile_image_url\":\"http:\\\\/\\\\/a0.twimg.com\\\\/profile_images\\\\/289384511\\\\/pencil_tip_normal.jpg\",\"profile_text_color\":\"071526\",\"description\":\"Writer, creativity coach, raw-art journaler. Motorcyclist. Creativity instigator. Seeker. Believes there is not always a reason for everything.\",\"notifications\":null,\"profile_background_image_url\":\"http:\\\\/\\\\/a0.twimg.com\\\\/profile_background_images\\\\/645663978\\\\/9jlh6oj9giz5vmal19ah.jpeg\",\"location\":\"Arizona\",\"lang\":\"en\",\"statuses_count\":6422,\"profile_link_color\":\"C24E0B\",\"listed_count\":151,\"follow_request_sent\":null,\"followers_count\":2043,\"screen_name\":\"QuinnCreative\",\"profile_background_color\":\"DBCABF\",\"protected\":false,\"default_profile\":false,\"following\":null,\"verified\":false,\"profile_background_tile\":true,\"profile_background_image_url_https\":\"https:\\\\/\\\\/si0.twimg.com\\\\/profile_background_images\\\\/645663978\\\\/9jlh6oj9giz5vmal19ah.jpeg\",\"name\":\"Quinn McDonald\",\"geo_enabled\":false,\"profile_sidebar_fill_color\":\"F0F0D3\",\"id\":23800768,\"id_str\":\"23800768\",\"utc_offset\":-25200},\"id\":249868711060713473,\"id_str\":\"249868711060713473\",\"in_reply_to_screen_name\":null}']"
      ]
     },
     "execution_count": 12,
     "metadata": {},
     "output_type": "execute_result"
    }
   ],
   "source": [
    "# All records\n",
    "## rdd_all = sc.textFile('/data/election2012')\n",
    "\n",
    "# only a batch of 1,000,000\n",
    "rdd = sc.textFile('/data/election2012/cache-10000000.json.gz')\n",
    "rdd.take(1)"
   ]
  },
  {
   "cell_type": "markdown",
   "metadata": {},
   "source": [
    "Rather than decoding each line from JSON to Python Dict we may just look for substrings. In this case we can filter out all tweets without a URLs."
   ]
  },
  {
   "cell_type": "code",
   "execution_count": 13,
   "metadata": {
    "ExecuteTime": {
     "end_time": "2018-02-10T13:37:01.823941",
     "start_time": "2018-02-10T13:37:01.819139"
    },
    "collapsed": false
   },
   "outputs": [],
   "source": [
    "rdd_with_urls = rdd.filter(lambda s: not ',\"urls\":[]' in s)"
   ]
  },
  {
   "cell_type": "code",
   "execution_count": 14,
   "metadata": {
    "ExecuteTime": {
     "end_time": "2018-02-10T13:37:40.273567",
     "start_time": "2018-02-10T13:37:17.456906"
    },
    "collapsed": false
   },
   "outputs": [
    {
     "data": {
      "text/plain": [
       "986575"
      ]
     },
     "execution_count": 14,
     "metadata": {},
     "output_type": "execute_result"
    }
   ],
   "source": [
    "rdd_with_urls.count()"
   ]
  },
  {
   "cell_type": "markdown",
   "metadata": {},
   "source": [
    "Counting the entire data set takes a bit over 3 minutes on the cluster (Don't try this at home!)"
   ]
  },
  {
   "cell_type": "code",
   "execution_count": 15,
   "metadata": {
    "ExecuteTime": {
     "end_time": "2018-02-10T13:41:42.720810",
     "start_time": "2018-02-10T13:38:29.141316"
    },
    "collapsed": false
   },
   "outputs": [
    {
     "data": {
      "text/plain": [
       "170515361"
      ]
     },
     "execution_count": 15,
     "metadata": {},
     "output_type": "execute_result"
    }
   ],
   "source": [
    "# rdd_all = sc.textFile('/data/election2012')\n",
    "# rdd_all.count()"
   ]
  },
  {
   "cell_type": "markdown",
   "metadata": {},
   "source": [
    "## Spark SQL\n",
    "We can also read the data set into a DataFrame. However, that's not necessarily the best thing to do. When reading JSON files, Spark needs to load the entire dataset to infer a schema. This can take a while (on the cluster about 2 to 3 minutes).  \n"
   ]
  },
  {
   "cell_type": "code",
   "execution_count": 16,
   "metadata": {
    "ExecuteTime": {
     "end_time": "2018-02-10T13:44:16.602922",
     "start_time": "2018-02-10T13:44:16.599069"
    },
    "collapsed": true
   },
   "outputs": [],
   "source": [
    "from pyspark.sql import SQLContext\n",
    "\n",
    "sqlCtx = SQLContext(sc)"
   ]
  },
  {
   "cell_type": "code",
   "execution_count": 18,
   "metadata": {
    "ExecuteTime": {
     "end_time": "2018-02-10T13:47:34.517769",
     "start_time": "2018-02-10T13:45:02.107758"
    },
    "collapsed": false,
    "scrolled": false
   },
   "outputs": [
    {
     "name": "stdout",
     "output_type": "stream",
     "text": [
      "root\n",
      " |-- contributors: array (nullable = true)\n",
      " |    |-- element: long (containsNull = true)\n",
      " |-- coordinates: struct (nullable = true)\n",
      " |    |-- coordinates: array (nullable = true)\n",
      " |    |    |-- element: double (containsNull = true)\n",
      " |    |-- type: string (nullable = true)\n",
      " |-- created_at: string (nullable = true)\n",
      " |-- entities: struct (nullable = true)\n",
      " |    |-- hashtags: array (nullable = true)\n",
      " |    |    |-- element: struct (containsNull = true)\n",
      " |    |    |    |-- indices: array (nullable = true)\n",
      " |    |    |    |    |-- element: long (containsNull = true)\n",
      " |    |    |    |-- text: string (nullable = true)\n",
      " |    |-- media: array (nullable = true)\n",
      " |    |    |-- element: struct (containsNull = true)\n",
      " |    |    |    |-- display_url: string (nullable = true)\n",
      " |    |    |    |-- expanded_url: string (nullable = true)\n",
      " |    |    |    |-- id: long (nullable = true)\n",
      " |    |    |    |-- id_str: string (nullable = true)\n",
      " |    |    |    |-- indices: array (nullable = true)\n",
      " |    |    |    |    |-- element: long (containsNull = true)\n",
      " |    |    |    |-- media_url: string (nullable = true)\n",
      " |    |    |    |-- media_url_https: string (nullable = true)\n",
      " |    |    |    |-- sizes: struct (nullable = true)\n",
      " |    |    |    |    |-- large: struct (nullable = true)\n",
      " |    |    |    |    |    |-- h: long (nullable = true)\n",
      " |    |    |    |    |    |-- resize: string (nullable = true)\n",
      " |    |    |    |    |    |-- w: long (nullable = true)\n",
      " |    |    |    |    |-- medium: struct (nullable = true)\n",
      " |    |    |    |    |    |-- h: long (nullable = true)\n",
      " |    |    |    |    |    |-- resize: string (nullable = true)\n",
      " |    |    |    |    |    |-- w: long (nullable = true)\n",
      " |    |    |    |    |-- small: struct (nullable = true)\n",
      " |    |    |    |    |    |-- h: long (nullable = true)\n",
      " |    |    |    |    |    |-- resize: string (nullable = true)\n",
      " |    |    |    |    |    |-- w: long (nullable = true)\n",
      " |    |    |    |    |-- thumb: struct (nullable = true)\n",
      " |    |    |    |    |    |-- h: long (nullable = true)\n",
      " |    |    |    |    |    |-- resize: string (nullable = true)\n",
      " |    |    |    |    |    |-- w: long (nullable = true)\n",
      " |    |    |    |-- source_status_id: long (nullable = true)\n",
      " |    |    |    |-- source_status_id_str: string (nullable = true)\n",
      " |    |    |    |-- type: string (nullable = true)\n",
      " |    |    |    |-- url: string (nullable = true)\n",
      " |    |-- urls: array (nullable = true)\n",
      " |    |    |-- element: struct (containsNull = true)\n",
      " |    |    |    |-- display_url: string (nullable = true)\n",
      " |    |    |    |-- expanded_url: string (nullable = true)\n",
      " |    |    |    |-- indices: array (nullable = true)\n",
      " |    |    |    |    |-- element: long (containsNull = true)\n",
      " |    |    |    |-- url: string (nullable = true)\n",
      " |    |-- user_mentions: array (nullable = true)\n",
      " |    |    |-- element: struct (containsNull = true)\n",
      " |    |    |    |-- id: long (nullable = true)\n",
      " |    |    |    |-- id_str: string (nullable = true)\n",
      " |    |    |    |-- indices: array (nullable = true)\n",
      " |    |    |    |    |-- element: long (containsNull = true)\n",
      " |    |    |    |-- name: string (nullable = true)\n",
      " |    |    |    |-- screen_name: string (nullable = true)\n",
      " |-- favorited: boolean (nullable = true)\n",
      " |-- geo: struct (nullable = true)\n",
      " |    |-- coordinates: array (nullable = true)\n",
      " |    |    |-- element: double (containsNull = true)\n",
      " |    |-- type: string (nullable = true)\n",
      " |-- id: long (nullable = true)\n",
      " |-- id_str: string (nullable = true)\n",
      " |-- in_reply_to_screen_name: string (nullable = true)\n",
      " |-- in_reply_to_status_id: long (nullable = true)\n",
      " |-- in_reply_to_status_id_str: string (nullable = true)\n",
      " |-- in_reply_to_user_id: long (nullable = true)\n",
      " |-- in_reply_to_user_id_str: string (nullable = true)\n",
      " |-- lang: string (nullable = true)\n",
      " |-- limit: struct (nullable = true)\n",
      " |    |-- track: long (nullable = true)\n",
      " |-- place: struct (nullable = true)\n",
      " |    |-- attributes: struct (nullable = true)\n",
      " |    |    |-- locality: string (nullable = true)\n",
      " |    |    |-- region: string (nullable = true)\n",
      " |    |    |-- street_address: string (nullable = true)\n",
      " |    |-- bounding_box: struct (nullable = true)\n",
      " |    |    |-- coordinates: array (nullable = true)\n",
      " |    |    |    |-- element: array (containsNull = true)\n",
      " |    |    |    |    |-- element: array (containsNull = true)\n",
      " |    |    |    |    |    |-- element: double (containsNull = true)\n",
      " |    |    |-- type: string (nullable = true)\n",
      " |    |-- country: string (nullable = true)\n",
      " |    |-- country_code: string (nullable = true)\n",
      " |    |-- full_name: string (nullable = true)\n",
      " |    |-- id: string (nullable = true)\n",
      " |    |-- name: string (nullable = true)\n",
      " |    |-- place_type: string (nullable = true)\n",
      " |    |-- url: string (nullable = true)\n",
      " |-- possibly_sensitive: boolean (nullable = true)\n",
      " |-- possibly_sensitive_editable: boolean (nullable = true)\n",
      " |-- quality: string (nullable = true)\n",
      " |-- retweet_count: long (nullable = true)\n",
      " |-- retweeted: boolean (nullable = true)\n",
      " |-- retweeted_status: struct (nullable = true)\n",
      " |    |-- contributors: array (nullable = true)\n",
      " |    |    |-- element: long (containsNull = true)\n",
      " |    |-- coordinates: struct (nullable = true)\n",
      " |    |    |-- coordinates: array (nullable = true)\n",
      " |    |    |    |-- element: double (containsNull = true)\n",
      " |    |    |-- type: string (nullable = true)\n",
      " |    |-- created_at: string (nullable = true)\n",
      " |    |-- entities: struct (nullable = true)\n",
      " |    |    |-- hashtags: array (nullable = true)\n",
      " |    |    |    |-- element: struct (containsNull = true)\n",
      " |    |    |    |    |-- indices: array (nullable = true)\n",
      " |    |    |    |    |    |-- element: long (containsNull = true)\n",
      " |    |    |    |    |-- text: string (nullable = true)\n",
      " |    |    |-- media: array (nullable = true)\n",
      " |    |    |    |-- element: struct (containsNull = true)\n",
      " |    |    |    |    |-- display_url: string (nullable = true)\n",
      " |    |    |    |    |-- expanded_url: string (nullable = true)\n",
      " |    |    |    |    |-- id: long (nullable = true)\n",
      " |    |    |    |    |-- id_str: string (nullable = true)\n",
      " |    |    |    |    |-- indices: array (nullable = true)\n",
      " |    |    |    |    |    |-- element: long (containsNull = true)\n",
      " |    |    |    |    |-- media_url: string (nullable = true)\n",
      " |    |    |    |    |-- media_url_https: string (nullable = true)\n",
      " |    |    |    |    |-- sizes: struct (nullable = true)\n",
      " |    |    |    |    |    |-- large: struct (nullable = true)\n",
      " |    |    |    |    |    |    |-- h: long (nullable = true)\n",
      " |    |    |    |    |    |    |-- resize: string (nullable = true)\n",
      " |    |    |    |    |    |    |-- w: long (nullable = true)\n",
      " |    |    |    |    |    |-- medium: struct (nullable = true)\n",
      " |    |    |    |    |    |    |-- h: long (nullable = true)\n",
      " |    |    |    |    |    |    |-- resize: string (nullable = true)\n",
      " |    |    |    |    |    |    |-- w: long (nullable = true)\n",
      " |    |    |    |    |    |-- small: struct (nullable = true)\n",
      " |    |    |    |    |    |    |-- h: long (nullable = true)\n",
      " |    |    |    |    |    |    |-- resize: string (nullable = true)\n",
      " |    |    |    |    |    |    |-- w: long (nullable = true)\n",
      " |    |    |    |    |    |-- thumb: struct (nullable = true)\n",
      " |    |    |    |    |    |    |-- h: long (nullable = true)\n",
      " |    |    |    |    |    |    |-- resize: string (nullable = true)\n",
      " |    |    |    |    |    |    |-- w: long (nullable = true)\n",
      " |    |    |    |    |-- source_status_id: long (nullable = true)\n",
      " |    |    |    |    |-- source_status_id_str: string (nullable = true)\n",
      " |    |    |    |    |-- type: string (nullable = true)\n",
      " |    |    |    |    |-- url: string (nullable = true)\n",
      " |    |    |-- urls: array (nullable = true)\n",
      " |    |    |    |-- element: struct (containsNull = true)\n",
      " |    |    |    |    |-- display_url: string (nullable = true)\n",
      " |    |    |    |    |-- expanded_url: string (nullable = true)\n",
      " |    |    |    |    |-- indices: array (nullable = true)\n",
      " |    |    |    |    |    |-- element: long (containsNull = true)\n",
      " |    |    |    |    |-- url: string (nullable = true)\n",
      " |    |    |-- user_mentions: array (nullable = true)\n",
      " |    |    |    |-- element: struct (containsNull = true)\n",
      " |    |    |    |    |-- id: long (nullable = true)\n",
      " |    |    |    |    |-- id_str: string (nullable = true)\n",
      " |    |    |    |    |-- indices: array (nullable = true)\n",
      " |    |    |    |    |    |-- element: long (containsNull = true)\n",
      " |    |    |    |    |-- name: string (nullable = true)\n",
      " |    |    |    |    |-- screen_name: string (nullable = true)\n",
      " |    |-- favorited: boolean (nullable = true)\n",
      " |    |-- geo: struct (nullable = true)\n",
      " |    |    |-- coordinates: array (nullable = true)\n",
      " |    |    |    |-- element: double (containsNull = true)\n",
      " |    |    |-- type: string (nullable = true)\n",
      " |    |-- id: long (nullable = true)\n",
      " |    |-- id_str: string (nullable = true)\n",
      " |    |-- in_reply_to_screen_name: string (nullable = true)\n",
      " |    |-- in_reply_to_status_id: long (nullable = true)\n",
      " |    |-- in_reply_to_status_id_str: string (nullable = true)\n",
      " |    |-- in_reply_to_user_id: long (nullable = true)\n",
      " |    |-- in_reply_to_user_id_str: string (nullable = true)\n",
      " |    |-- lang: string (nullable = true)\n",
      " |    |-- place: struct (nullable = true)\n",
      " |    |    |-- attributes: struct (nullable = true)\n",
      " |    |    |    |-- locality: string (nullable = true)\n",
      " |    |    |    |-- region: string (nullable = true)\n",
      " |    |    |    |-- street_address: string (nullable = true)\n",
      " |    |    |-- bounding_box: struct (nullable = true)\n",
      " |    |    |    |-- coordinates: array (nullable = true)\n",
      " |    |    |    |    |-- element: array (containsNull = true)\n",
      " |    |    |    |    |    |-- element: array (containsNull = true)\n",
      " |    |    |    |    |    |    |-- element: double (containsNull = true)\n",
      " |    |    |    |-- type: string (nullable = true)\n",
      " |    |    |-- country: string (nullable = true)\n",
      " |    |    |-- country_code: string (nullable = true)\n",
      " |    |    |-- full_name: string (nullable = true)\n",
      " |    |    |-- id: string (nullable = true)\n",
      " |    |    |-- name: string (nullable = true)\n",
      " |    |    |-- place_type: string (nullable = true)\n",
      " |    |    |-- url: string (nullable = true)\n",
      " |    |-- possibly_sensitive: boolean (nullable = true)\n",
      " |    |-- possibly_sensitive_editable: boolean (nullable = true)\n",
      " |    |-- retweet_count: long (nullable = true)\n",
      " |    |-- retweeted: boolean (nullable = true)\n",
      " |    |-- scopes: struct (nullable = true)\n",
      " |    |    |-- followers: boolean (nullable = true)\n",
      " |    |-- source: string (nullable = true)\n",
      " |    |-- text: string (nullable = true)\n",
      " |    |-- truncated: boolean (nullable = true)\n",
      " |    |-- user: struct (nullable = true)\n",
      " |    |    |-- contributors_enabled: boolean (nullable = true)\n",
      " |    |    |-- created_at: string (nullable = true)\n",
      " |    |    |-- default_profile: boolean (nullable = true)\n",
      " |    |    |-- default_profile_image: boolean (nullable = true)\n",
      " |    |    |-- description: string (nullable = true)\n",
      " |    |    |-- favourites_count: long (nullable = true)\n",
      " |    |    |-- follow_request_sent: string (nullable = true)\n",
      " |    |    |-- followers_count: long (nullable = true)\n",
      " |    |    |-- following: string (nullable = true)\n",
      " |    |    |-- friends_count: long (nullable = true)\n",
      " |    |    |-- geo_enabled: boolean (nullable = true)\n",
      " |    |    |-- id: long (nullable = true)\n",
      " |    |    |-- id_str: string (nullable = true)\n",
      " |    |    |-- is_translator: boolean (nullable = true)\n",
      " |    |    |-- lang: string (nullable = true)\n",
      " |    |    |-- listed_count: long (nullable = true)\n",
      " |    |    |-- location: string (nullable = true)\n",
      " |    |    |-- name: string (nullable = true)\n",
      " |    |    |-- notifications: string (nullable = true)\n",
      " |    |    |-- profile_background_color: string (nullable = true)\n",
      " |    |    |-- profile_background_image_url: string (nullable = true)\n",
      " |    |    |-- profile_background_image_url_https: string (nullable = true)\n",
      " |    |    |-- profile_background_tile: boolean (nullable = true)\n",
      " |    |    |-- profile_banner_url: string (nullable = true)\n",
      " |    |    |-- profile_image_url: string (nullable = true)\n",
      " |    |    |-- profile_image_url_https: string (nullable = true)\n",
      " |    |    |-- profile_link_color: string (nullable = true)\n",
      " |    |    |-- profile_sidebar_border_color: string (nullable = true)\n",
      " |    |    |-- profile_sidebar_fill_color: string (nullable = true)\n",
      " |    |    |-- profile_text_color: string (nullable = true)\n",
      " |    |    |-- profile_use_background_image: boolean (nullable = true)\n",
      " |    |    |-- protected: boolean (nullable = true)\n",
      " |    |    |-- screen_name: string (nullable = true)\n",
      " |    |    |-- show_all_inline_media: boolean (nullable = true)\n",
      " |    |    |-- statuses_count: long (nullable = true)\n",
      " |    |    |-- time_zone: string (nullable = true)\n",
      " |    |    |-- url: string (nullable = true)\n",
      " |    |    |-- utc_offset: long (nullable = true)\n",
      " |    |    |-- verified: boolean (nullable = true)\n",
      " |-- source: string (nullable = true)\n",
      " |-- text: string (nullable = true)\n",
      " |-- truncated: boolean (nullable = true)\n",
      " |-- user: struct (nullable = true)\n",
      " |    |-- contributors_enabled: boolean (nullable = true)\n",
      " |    |-- created_at: string (nullable = true)\n",
      " |    |-- default_profile: boolean (nullable = true)\n",
      " |    |-- default_profile_image: boolean (nullable = true)\n",
      " |    |-- description: string (nullable = true)\n",
      " |    |-- favourites_count: long (nullable = true)\n",
      " |    |-- follow_request_sent: string (nullable = true)\n",
      " |    |-- followers_count: long (nullable = true)\n",
      " |    |-- following: string (nullable = true)\n",
      " |    |-- friends_count: long (nullable = true)\n",
      " |    |-- geo_enabled: boolean (nullable = true)\n",
      " |    |-- id: long (nullable = true)\n",
      " |    |-- id_str: string (nullable = true)\n",
      " |    |-- is_translator: boolean (nullable = true)\n",
      " |    |-- lang: string (nullable = true)\n",
      " |    |-- listed_count: long (nullable = true)\n",
      " |    |-- location: string (nullable = true)\n",
      " |    |-- name: string (nullable = true)\n",
      " |    |-- notifications: string (nullable = true)\n",
      " |    |-- profile_background_color: string (nullable = true)\n",
      " |    |-- profile_background_image_url: string (nullable = true)\n",
      " |    |-- profile_background_image_url_https: string (nullable = true)\n",
      " |    |-- profile_background_tile: boolean (nullable = true)\n",
      " |    |-- profile_banner_url: string (nullable = true)\n",
      " |    |-- profile_image_url: string (nullable = true)\n",
      " |    |-- profile_image_url_https: string (nullable = true)\n",
      " |    |-- profile_link_color: string (nullable = true)\n",
      " |    |-- profile_sidebar_border_color: string (nullable = true)\n",
      " |    |-- profile_sidebar_fill_color: string (nullable = true)\n",
      " |    |-- profile_text_color: string (nullable = true)\n",
      " |    |-- profile_use_background_image: boolean (nullable = true)\n",
      " |    |-- protected: boolean (nullable = true)\n",
      " |    |-- screen_name: string (nullable = true)\n",
      " |    |-- show_all_inline_media: boolean (nullable = true)\n",
      " |    |-- statuses_count: long (nullable = true)\n",
      " |    |-- time_zone: string (nullable = true)\n",
      " |    |-- url: string (nullable = true)\n",
      " |    |-- utc_offset: long (nullable = true)\n",
      " |    |-- verified: boolean (nullable = true)\n",
      "\n"
     ]
    }
   ],
   "source": [
    "#df = sqlCtx.read.json('/data/election2012')\n",
    "#df.printSchema()"
   ]
  },
  {
   "cell_type": "markdown",
   "metadata": {},
   "source": [
    "Because some of the columns in the DataFrame are arrays, we may have to define UDFs to process those elements."
   ]
  },
  {
   "cell_type": "code",
   "execution_count": 46,
   "metadata": {
    "ExecuteTime": {
     "end_time": "2018-02-10T14:17:28.042168",
     "start_time": "2018-02-10T14:15:21.658785"
    },
    "collapsed": false
   },
   "outputs": [
    {
     "data": {
      "text/plain": [
       "[Row(id=578292128, name=u'WatchesLOVEYou', entities=Row(hashtags=[], media=None, urls=[Row(display_url=u'\\u2026ttnauerquartzwatch.watchesloveyou.com/invicta-mens-7\\u2026', expanded_url=u'http://wittnauerquartzwatch.watchesloveyou.com/invicta-mens-7185-signature-collection-russian-diver-black-ion-plated-chronograph-watch-cheap-price-sale/', indices=[92, 112], url=u'http://t.co/iiZIrW1b')], user_mentions=[]))]"
      ]
     },
     "execution_count": 46,
     "metadata": {},
     "output_type": "execute_result"
    }
   ],
   "source": [
    "import pyspark.sql.functions as F\n",
    "import pyspark.sql.types as T\n",
    "\n",
    "def nonzerolist(l):\n",
    "    return len(l)>0\n",
    "\n",
    "nonzerolist_ = F.udf(nonzerolist, T.BooleanType())\n",
    "\n",
    "df.limit(1000).filter(nonzerolist_('entities.urls')) \\\n",
    "    .select('user.id', 'user.name', 'entities').take(1)"
   ]
  },
  {
   "cell_type": "code",
   "execution_count": null,
   "metadata": {
    "collapsed": true
   },
   "outputs": [],
   "source": []
  }
 ],
 "metadata": {
  "hide_input": false,
  "kernelspec": {
   "display_name": "Python 2",
   "language": "python",
   "name": "python2"
  },
  "language_info": {
   "codemirror_mode": {
    "name": "ipython",
    "version": 2
   },
   "file_extension": ".py",
   "mimetype": "text/x-python",
   "name": "python",
   "nbconvert_exporter": "python",
   "pygments_lexer": "ipython2",
   "version": "2.7.5"
  },
  "toc": {
   "nav_menu": {
    "height": "84px",
    "width": "252px"
   },
   "navigate_menu": true,
   "number_sections": true,
   "sideBar": true,
   "threshold": 4,
   "toc_cell": false,
   "toc_section_display": "block",
   "toc_window_display": true
  }
 },
 "nbformat": 4,
 "nbformat_minor": 0
}
